{
 "cells": [
  {
   "cell_type": "markdown",
   "id": "b7b9f7c7-8fcc-4f85-a260-54146ff48d12",
   "metadata": {},
   "source": [
    "# 人工智能AI岗位全国城市区域分布以及薪资分布可视化"
   ]
  },
  {
   "cell_type": "raw",
   "id": "3f4eaa6c-cb02-4ebf-baab-41b2810ea25c",
   "metadata": {},
   "source": [
    "@Author 人工智能2201张杰 0122210880325\n",
    "@Time   2023/11/19"
   ]
  },
  {
   "cell_type": "markdown",
   "id": "3a336c64-fbc5-4636-b756-61644958c833",
   "metadata": {
    "jp-MarkdownHeadingCollapsed": true
   },
   "source": [
    "## 1、读取爬取结果，查看基本信息"
   ]
  },
  {
   "cell_type": "markdown",
   "id": "9fd37be9-3bf8-4d7c-a0c1-ceb794910af5",
   "metadata": {},
   "source": [
    "### 1.1 导包并定义常量"
   ]
  },
  {
   "cell_type": "code",
   "execution_count": 1,
   "id": "61575e9c-d5d1-42af-a45d-452c1c466a9a",
   "metadata": {},
   "outputs": [],
   "source": [
    "import pandas as pd\n",
    "import re"
   ]
  },
  {
   "cell_type": "code",
   "execution_count": 2,
   "id": "4337c969-5f59-45e2-9246-bd8bf0c116c6",
   "metadata": {},
   "outputs": [],
   "source": [
    "DATA_PATH = 'data/data.csv' # 定义路径常量\n",
    "PICTURE_BASE_PATH ='html/' "
   ]
  },
  {
   "cell_type": "markdown",
   "id": "6e0a457f-121c-4e43-bed4-f31f03f56796",
   "metadata": {},
   "source": [
    "### 1.2 查看数据信息"
   ]
  },
  {
   "cell_type": "markdown",
   "id": "af6d5b48-e48b-43a7-8f83-b9618d291b42",
   "metadata": {},
   "source": [
    "基本信息说明：job-职位名称|\n",
    "city-工作城市|\n",
    "company-公司名称|\n",
    "people-公司规模|\n",
    "salary-薪水|\n",
    "experience-工作经验|\n",
    "education-教育背景|\n",
    "skill-要求技能  \n",
    "读取数据"
   ]
  },
  {
   "cell_type": "code",
   "execution_count": 3,
   "id": "b7bf206f-1f36-4127-b98a-2f3dd42be408",
   "metadata": {},
   "outputs": [],
   "source": [
    "data = pd.read_csv(DATA_PATH, dtype = 'str')"
   ]
  },
  {
   "cell_type": "markdown",
   "id": "7c9dd262-93fa-4714-8563-58ac2486dcdc",
   "metadata": {},
   "source": [
    "查看前5条数据"
   ]
  },
  {
   "cell_type": "code",
   "execution_count": 4,
   "id": "63ac05b8-810d-44da-8321-b3192b956e10",
   "metadata": {},
   "outputs": [
    {
     "data": {
      "text/html": [
       "<div>\n",
       "<style scoped>\n",
       "    .dataframe tbody tr th:only-of-type {\n",
       "        vertical-align: middle;\n",
       "    }\n",
       "\n",
       "    .dataframe tbody tr th {\n",
       "        vertical-align: top;\n",
       "    }\n",
       "\n",
       "    .dataframe thead th {\n",
       "        text-align: right;\n",
       "    }\n",
       "</style>\n",
       "<table border=\"1\" class=\"dataframe\">\n",
       "  <thead>\n",
       "    <tr style=\"text-align: right;\">\n",
       "      <th></th>\n",
       "      <th>job</th>\n",
       "      <th>city</th>\n",
       "      <th>company</th>\n",
       "      <th>people</th>\n",
       "      <th>salary</th>\n",
       "      <th>experience</th>\n",
       "      <th>education</th>\n",
       "      <th>skill</th>\n",
       "    </tr>\n",
       "  </thead>\n",
       "  <tbody>\n",
       "    <tr>\n",
       "      <th>0</th>\n",
       "      <td>AI无人直播（苏州独家）代理商</td>\n",
       "      <td>苏州</td>\n",
       "      <td>微服文化传媒</td>\n",
       "      <td>20-99人</td>\n",
       "      <td>11-22K</td>\n",
       "      <td>经验不限</td>\n",
       "      <td>学历不限</td>\n",
       "      <td>['品牌招商']</td>\n",
       "    </tr>\n",
       "    <tr>\n",
       "      <th>1</th>\n",
       "      <td>初中数学文本解析老师</td>\n",
       "      <td>苏州</td>\n",
       "      <td>自贡一快教育</td>\n",
       "      <td>20-99人</td>\n",
       "      <td>40-45元/时</td>\n",
       "      <td>经验不限</td>\n",
       "      <td>大专</td>\n",
       "      <td>['兼职', '高薪', '自由']</td>\n",
       "    </tr>\n",
       "    <tr>\n",
       "      <th>2</th>\n",
       "      <td>AI录音师（兼职）</td>\n",
       "      <td>苏州</td>\n",
       "      <td>道泰信息</td>\n",
       "      <td>20-99人</td>\n",
       "      <td>6-7K</td>\n",
       "      <td>经验不限</td>\n",
       "      <td>学历不限</td>\n",
       "      <td>['声音剪辑', '声音设计', '现场录音']</td>\n",
       "    </tr>\n",
       "    <tr>\n",
       "      <th>3</th>\n",
       "      <td>数据标注/AI训练师</td>\n",
       "      <td>苏州</td>\n",
       "      <td>苏州艾星仕信息科技</td>\n",
       "      <td>20-99人</td>\n",
       "      <td>25-30元/时</td>\n",
       "      <td>经验不限</td>\n",
       "      <td>学历不限</td>\n",
       "      <td>['兼职工作', '数据标注', '图片标注', '语音标注', '视频标注', '区域标注...</td>\n",
       "    </tr>\n",
       "    <tr>\n",
       "      <th>4</th>\n",
       "      <td>AI专员</td>\n",
       "      <td>苏州</td>\n",
       "      <td>茂禾地产</td>\n",
       "      <td>100-499人</td>\n",
       "      <td>5-10K·13薪</td>\n",
       "      <td>1-3年</td>\n",
       "      <td>大专</td>\n",
       "      <td>['语音/图像识别', 'Python']</td>\n",
       "    </tr>\n",
       "  </tbody>\n",
       "</table>\n",
       "</div>"
      ],
      "text/plain": [
       "               job city    company    people     salary experience education  \\\n",
       "0  AI无人直播（苏州独家）代理商   苏州     微服文化传媒    20-99人     11-22K       经验不限      学历不限   \n",
       "1       初中数学文本解析老师   苏州     自贡一快教育    20-99人   40-45元/时       经验不限        大专   \n",
       "2        AI录音师（兼职）   苏州       道泰信息    20-99人       6-7K       经验不限      学历不限   \n",
       "3       数据标注/AI训练师   苏州  苏州艾星仕信息科技    20-99人   25-30元/时       经验不限      学历不限   \n",
       "4             AI专员   苏州       茂禾地产  100-499人  5-10K·13薪       1-3年        大专   \n",
       "\n",
       "                                               skill  \n",
       "0                                           ['品牌招商']  \n",
       "1                                 ['兼职', '高薪', '自由']  \n",
       "2                           ['声音剪辑', '声音设计', '现场录音']  \n",
       "3  ['兼职工作', '数据标注', '图片标注', '语音标注', '视频标注', '区域标注...  \n",
       "4                              ['语音/图像识别', 'Python']  "
      ]
     },
     "execution_count": 4,
     "metadata": {},
     "output_type": "execute_result"
    }
   ],
   "source": [
    "data.head()"
   ]
  },
  {
   "cell_type": "markdown",
   "id": "f0e14af6-c5cc-486c-a21a-e170ec4a4539",
   "metadata": {},
   "source": [
    "可以看出：  \n",
    "1、salary薪资的形式有很多种，需要统一。  \n",
    "2、job列“初中数学文本解析老师”与目标职业不符，需要对这类数据剔除。"
   ]
  },
  {
   "cell_type": "markdown",
   "id": "1bd9c2a8-31fb-4e2d-8cc0-b05ee35d4ff7",
   "metadata": {},
   "source": [
    "使用describe()函数获取描述性统计数据"
   ]
  },
  {
   "cell_type": "code",
   "execution_count": 5,
   "id": "ee45989a-f9cf-4c3d-8a6c-278f23df1a76",
   "metadata": {},
   "outputs": [
    {
     "data": {
      "text/html": [
       "<div>\n",
       "<style scoped>\n",
       "    .dataframe tbody tr th:only-of-type {\n",
       "        vertical-align: middle;\n",
       "    }\n",
       "\n",
       "    .dataframe tbody tr th {\n",
       "        vertical-align: top;\n",
       "    }\n",
       "\n",
       "    .dataframe thead th {\n",
       "        text-align: right;\n",
       "    }\n",
       "</style>\n",
       "<table border=\"1\" class=\"dataframe\">\n",
       "  <thead>\n",
       "    <tr style=\"text-align: right;\">\n",
       "      <th></th>\n",
       "      <th>job</th>\n",
       "      <th>city</th>\n",
       "      <th>company</th>\n",
       "      <th>people</th>\n",
       "      <th>salary</th>\n",
       "      <th>experience</th>\n",
       "      <th>education</th>\n",
       "      <th>skill</th>\n",
       "    </tr>\n",
       "  </thead>\n",
       "  <tbody>\n",
       "    <tr>\n",
       "      <th>count</th>\n",
       "      <td>7797</td>\n",
       "      <td>7797</td>\n",
       "      <td>7797</td>\n",
       "      <td>7797</td>\n",
       "      <td>7797</td>\n",
       "      <td>7797</td>\n",
       "      <td>7797</td>\n",
       "      <td>7797</td>\n",
       "    </tr>\n",
       "    <tr>\n",
       "      <th>unique</th>\n",
       "      <td>4868</td>\n",
       "      <td>69</td>\n",
       "      <td>5989</td>\n",
       "      <td>7</td>\n",
       "      <td>817</td>\n",
       "      <td>9</td>\n",
       "      <td>9</td>\n",
       "      <td>6765</td>\n",
       "    </tr>\n",
       "    <tr>\n",
       "      <th>top</th>\n",
       "      <td>ai产品经理</td>\n",
       "      <td>北京</td>\n",
       "      <td>某500强上市公司</td>\n",
       "      <td>20-99人</td>\n",
       "      <td>10-15K</td>\n",
       "      <td>经验不限</td>\n",
       "      <td>本科</td>\n",
       "      <td>['人工智能']</td>\n",
       "    </tr>\n",
       "    <tr>\n",
       "      <th>freq</th>\n",
       "      <td>124</td>\n",
       "      <td>359</td>\n",
       "      <td>232</td>\n",
       "      <td>2328</td>\n",
       "      <td>364</td>\n",
       "      <td>2183</td>\n",
       "      <td>3895</td>\n",
       "      <td>46</td>\n",
       "    </tr>\n",
       "  </tbody>\n",
       "</table>\n",
       "</div>"
      ],
      "text/plain": [
       "           job  city    company  people  salary experience education     skill\n",
       "count     7797  7797       7797    7797    7797       7797      7797      7797\n",
       "unique    4868    69       5989       7     817          9         9      6765\n",
       "top     ai产品经理    北京  某500强上市公司  20-99人  10-15K       经验不限        本科  ['人工智能']\n",
       "freq       124   359        232    2328     364       2183      3895        46"
      ]
     },
     "execution_count": 5,
     "metadata": {},
     "output_type": "execute_result"
    }
   ],
   "source": [
    "data.describe(include = 'all')"
   ]
  },
  {
   "cell_type": "markdown",
   "id": "fee73e98-dec7-461c-8b49-a85404a9ca75",
   "metadata": {},
   "source": [
    "统计结果：  \n",
    "1、job、city、company、people、salary、experience、education、skill列count相同，无缺失值。  \n",
    "2、job列总数庞大，共4868种不同的工作，需要进行数据清洗。  \n",
    "3、近8000个city中有69个不同的城市，而最多一个城市出现359次，表明数据中有部分城市只出现少数次。意味着需要去除仅出现在“全国”而没有出现在“热门城市”的城市数据。  \n",
    "4、people有7种，表明公司规模可以初步划分为7类。  \n",
    "5、experience与education都为9，初步划分为9类。  \n",
    "6、skill技能要求有近7000种，需要进行数据清洗。"
   ]
  },
  {
   "cell_type": "code",
   "execution_count": 6,
   "id": "41623e55-2304-4591-a59d-2300ab57890e",
   "metadata": {},
   "outputs": [
    {
     "name": "stdout",
     "output_type": "stream",
     "text": [
      "{'1-3年', '3-5年', '1年以内', '10年以上', 'experience', '在校/应届', '5-10年', '经验不限', '应届生'}\n",
      "{'本科', '高中', '大专', '学历不限', '博士', '硕士', '初中及以下', '中专/中技', 'education'}\n",
      "{'20-99人', '100-499人', '500-999人', 'people', '1000-9999人', '0-20人', '10000人以上'}\n"
     ]
    }
   ],
   "source": [
    "print(set(data['experience'])) # 对experience列查看\n",
    "print(set(data['education'])) # 对education列查看\n",
    "print(set(data['people'])) # 对people列查看"
   ]
  },
  {
   "cell_type": "markdown",
   "id": "710cbae3-4336-467c-bbc0-5f261b53f898",
   "metadata": {},
   "source": [
    "发现experience、education、people初步划分不合适，需要对experience、education、people整合分类"
   ]
  },
  {
   "cell_type": "markdown",
   "id": "ca1304da-d363-468c-a5c9-bb35f5f6ac54",
   "metadata": {
    "jp-MarkdownHeadingCollapsed": true
   },
   "source": [
    "## 2、数据预处理"
   ]
  },
  {
   "cell_type": "markdown",
   "id": "db5a6eb9-b037-4988-8bec-5c7b27c5fc85",
   "metadata": {
    "jp-MarkdownHeadingCollapsed": true
   },
   "source": [
    "### 2.1 薪资salary清洗"
   ]
  },
  {
   "cell_type": "markdown",
   "id": "ec3d1bb6-1002-4123-96b6-0cb19328ec71",
   "metadata": {},
   "source": [
    "#### 2.2.1 清洗数据"
   ]
  },
  {
   "cell_type": "markdown",
   "id": "71b65454-c1d6-4a72-873c-35843d3bfc9e",
   "metadata": {},
   "source": [
    "定义薪资清洗函数"
   ]
  },
  {
   "cell_type": "code",
   "execution_count": 7,
   "id": "afd9fda1-c994-44ac-983d-f16ef13ffad1",
   "metadata": {},
   "outputs": [],
   "source": [
    "def calculate_monthly_salary(salary_str):  \n",
    "    # 先匹配“25-40K·13薪”型\n",
    "    if re.search(r'\\d{1,3}-\\d{1,3}K·\\d+薪', salary_str):  \n",
    "        parts = re.findall(r'\\d+', salary_str)  # 找到所有的数字部分  \n",
    "        monthly_salary = int(int(parts[0]) + int(parts[1])) /2 * 1000   #12-19K\n",
    "        months = int(parts[2])  # 15薪  \n",
    "        return monthly_salary * months / 12 \n",
    "        \n",
    "    # 匹配\"6-11K\"型\n",
    "    elif re.search(r'\\d{1,3}-\\d{1,3}K', salary_str):  \n",
    "        return (int(re.findall(r'\\d+', salary_str)[0]) + int(re.findall(r'\\d+',salary_str)[1]))/2 * 1000 \n",
    "        \n",
    "    # 匹配\"8K\"型\n",
    "    elif re.search(r'^\\d{1,3}K$', salary_str): \n",
    "        return  int(re.findall(r'\\d+', salary_str)[0]) * 1000\n",
    "\n",
    "    # 舍弃“30-50元/时，100-200元/天，5000-4000元/月”型\n",
    "    else:  \n",
    "        return None  "
   ]
  },
  {
   "cell_type": "markdown",
   "id": "d211c40a-d4a8-4308-84f0-1e6f370a6ff0",
   "metadata": {},
   "source": [
    "对salary列清洗"
   ]
  },
  {
   "cell_type": "code",
   "execution_count": 8,
   "id": "8d4d6419-32f6-4cd6-b859-559b5882e721",
   "metadata": {},
   "outputs": [],
   "source": [
    "data['salary'] = data['salary'].apply(calculate_monthly_salary)\n",
    "data.dropna(axis = 0, inplace = True) # 去除空行"
   ]
  },
  {
   "cell_type": "markdown",
   "id": "f3190e73-0a21-443d-b026-d6be51043be2",
   "metadata": {},
   "source": [
    "#### 2.2.2 查看清洗结果"
   ]
  },
  {
   "cell_type": "code",
   "execution_count": 9,
   "id": "a20afc19-4db9-455d-903c-73c7a1e68c12",
   "metadata": {},
   "outputs": [
    {
     "data": {
      "text/plain": [
       "0       16500.0\n",
       "2        6500.0\n",
       "4        8125.0\n",
       "5       11375.0\n",
       "6        5625.0\n",
       "         ...   \n",
       "7792     8000.0\n",
       "7793     4000.0\n",
       "7794     5000.0\n",
       "7795     6500.0\n",
       "7796    10500.0\n",
       "Name: salary, Length: 7670, dtype: float64"
      ]
     },
     "execution_count": 9,
     "metadata": {},
     "output_type": "execute_result"
    }
   ],
   "source": [
    "data['salary']"
   ]
  },
  {
   "cell_type": "markdown",
   "id": "803fee87-fa22-4726-8062-a0bf5ae96165",
   "metadata": {
    "jp-MarkdownHeadingCollapsed": true
   },
   "source": [
    "### 2.2 经验experience、学历education、公司规模people清洗"
   ]
  },
  {
   "cell_type": "markdown",
   "id": "5c6e4c4a-fe8e-4284-8aad-cb971094d1b6",
   "metadata": {
    "jp-MarkdownHeadingCollapsed": true
   },
   "source": [
    "#### 2.2.1 清洗数据"
   ]
  },
  {
   "cell_type": "markdown",
   "id": "b62daf97-898b-4136-9580-06257a519f54",
   "metadata": {},
   "source": [
    "替换在校、应届生为不满一年"
   ]
  },
  {
   "cell_type": "code",
   "execution_count": 10,
   "id": "ee2c1e0c-6c10-4b02-b462-760f3a770800",
   "metadata": {},
   "outputs": [],
   "source": [
    "data['experience'] = data['experience'].replace({'1年以内':'不满1年','在校/应届':'不满1年','应届生':'不满1年'})"
   ]
  },
  {
   "cell_type": "markdown",
   "id": "de6b70bd-0370-409e-b81a-2f419146ea46",
   "metadata": {},
   "source": [
    "替换学历"
   ]
  },
  {
   "cell_type": "code",
   "execution_count": 11,
   "id": "5f187cb3-e645-4d51-a1cd-3d30227f548d",
   "metadata": {},
   "outputs": [],
   "source": [
    "data['education'] = data['education'].replace({'初中及以下':'高中及以下','高中':'高中及以下','中专/中技':'专科','大专':'专科'})"
   ]
  },
  {
   "cell_type": "markdown",
   "id": "c0dfebe7-da4e-494d-bfbf-9e2c41967a3b",
   "metadata": {},
   "source": [
    "替换公司规模"
   ]
  },
  {
   "cell_type": "code",
   "execution_count": 12,
   "id": "8c806ed3-d65e-4a5e-8f3c-fb8113a66170",
   "metadata": {},
   "outputs": [],
   "source": [
    "data['people'] = data['people'].replace({'0-20人':'100人以下','20-99人':'100人以下'})"
   ]
  },
  {
   "cell_type": "markdown",
   "id": "c790849f-3835-442d-bc67-e12cbcaca641",
   "metadata": {},
   "source": [
    "#### 2.2.2 查看清洗结果"
   ]
  },
  {
   "cell_type": "code",
   "execution_count": 13,
   "id": "7ae2ae1c-fe3c-4c04-872c-d82c5b3066e9",
   "metadata": {},
   "outputs": [
    {
     "data": {
      "text/html": [
       "<div>\n",
       "<style scoped>\n",
       "    .dataframe tbody tr th:only-of-type {\n",
       "        vertical-align: middle;\n",
       "    }\n",
       "\n",
       "    .dataframe tbody tr th {\n",
       "        vertical-align: top;\n",
       "    }\n",
       "\n",
       "    .dataframe thead th {\n",
       "        text-align: right;\n",
       "    }\n",
       "</style>\n",
       "<table border=\"1\" class=\"dataframe\">\n",
       "  <thead>\n",
       "    <tr style=\"text-align: right;\">\n",
       "      <th></th>\n",
       "      <th>job</th>\n",
       "      <th>city</th>\n",
       "      <th>company</th>\n",
       "      <th>people</th>\n",
       "      <th>salary</th>\n",
       "      <th>experience</th>\n",
       "      <th>education</th>\n",
       "      <th>skill</th>\n",
       "    </tr>\n",
       "  </thead>\n",
       "  <tbody>\n",
       "    <tr>\n",
       "      <th>0</th>\n",
       "      <td>AI无人直播（苏州独家）代理商</td>\n",
       "      <td>苏州</td>\n",
       "      <td>微服文化传媒</td>\n",
       "      <td>100人以下</td>\n",
       "      <td>16500.0</td>\n",
       "      <td>经验不限</td>\n",
       "      <td>学历不限</td>\n",
       "      <td>['品牌招商']</td>\n",
       "    </tr>\n",
       "    <tr>\n",
       "      <th>2</th>\n",
       "      <td>AI录音师（兼职）</td>\n",
       "      <td>苏州</td>\n",
       "      <td>道泰信息</td>\n",
       "      <td>100人以下</td>\n",
       "      <td>6500.0</td>\n",
       "      <td>经验不限</td>\n",
       "      <td>学历不限</td>\n",
       "      <td>['声音剪辑', '声音设计', '现场录音']</td>\n",
       "    </tr>\n",
       "    <tr>\n",
       "      <th>4</th>\n",
       "      <td>AI专员</td>\n",
       "      <td>苏州</td>\n",
       "      <td>茂禾地产</td>\n",
       "      <td>100-499人</td>\n",
       "      <td>8125.0</td>\n",
       "      <td>1-3年</td>\n",
       "      <td>专科</td>\n",
       "      <td>['语音/图像识别', 'Python']</td>\n",
       "    </tr>\n",
       "    <tr>\n",
       "      <th>5</th>\n",
       "      <td>AI应用研发工程师(J10500)</td>\n",
       "      <td>苏州</td>\n",
       "      <td>华硕科技（苏州）...</td>\n",
       "      <td>1000-9999人</td>\n",
       "      <td>11375.0</td>\n",
       "      <td>不满1年</td>\n",
       "      <td>本科</td>\n",
       "      <td>['业务导向', '语音/图像识别', '机器学习算法/工程化经验']</td>\n",
       "    </tr>\n",
       "    <tr>\n",
       "      <th>6</th>\n",
       "      <td>AI数据标注工程师</td>\n",
       "      <td>苏州</td>\n",
       "      <td>苏州科达</td>\n",
       "      <td>1000-9999人</td>\n",
       "      <td>5625.0</td>\n",
       "      <td>经验不限</td>\n",
       "      <td>本科</td>\n",
       "      <td>['图片标注']</td>\n",
       "    </tr>\n",
       "  </tbody>\n",
       "</table>\n",
       "</div>"
      ],
      "text/plain": [
       "                 job city      company      people   salary experience  \\\n",
       "0    AI无人直播（苏州独家）代理商   苏州       微服文化传媒      100人以下  16500.0       经验不限   \n",
       "2          AI录音师（兼职）   苏州         道泰信息      100人以下   6500.0       经验不限   \n",
       "4               AI专员   苏州         茂禾地产    100-499人   8125.0       1-3年   \n",
       "5  AI应用研发工程师(J10500)   苏州  华硕科技（苏州）...  1000-9999人  11375.0       不满1年   \n",
       "6          AI数据标注工程师   苏州         苏州科达  1000-9999人   5625.0       经验不限   \n",
       "\n",
       "  education                                skill  \n",
       "0      学历不限                             ['品牌招商']  \n",
       "2      学历不限             ['声音剪辑', '声音设计', '现场录音']  \n",
       "4        专科                ['语音/图像识别', 'Python']  \n",
       "5        本科  ['业务导向', '语音/图像识别', '机器学习算法/工程化经验']  \n",
       "6        本科                             ['图片标注']  "
      ]
     },
     "execution_count": 13,
     "metadata": {},
     "output_type": "execute_result"
    }
   ],
   "source": [
    "data.head(5)"
   ]
  },
  {
   "cell_type": "markdown",
   "id": "2b6fdf58-486f-4a07-8e3e-845214efaa13",
   "metadata": {},
   "source": [
    "## 3、数据分析与绘图"
   ]
  },
  {
   "cell_type": "markdown",
   "id": "d8aae7b9-a532-46c7-a121-276132199b51",
   "metadata": {},
   "source": [
    "### 3.1 定义绘图函数"
   ]
  },
  {
   "cell_type": "markdown",
   "id": "afc3557d-7444-495b-ab0a-504163679b01",
   "metadata": {},
   "source": [
    "#### 3.1.1 导包"
   ]
  },
  {
   "cell_type": "code",
   "execution_count": 14,
   "id": "355e4552-ebd3-401a-8219-dbba160b36bc",
   "metadata": {},
   "outputs": [],
   "source": [
    "import pyecharts.options as opts\n",
    "from pyecharts.charts import Pie\n",
    "from pyecharts.charts import Bar\n",
    "from pyecharts.charts import Boxplot\n",
    "from pyecharts.charts import WordCloud\n",
    "from pyecharts.charts import Bar3D\n",
    "from pyecharts.charts import Map\n",
    "from IPython.display import IFrame #用于在jupyter notebook中显示html"
   ]
  },
  {
   "cell_type": "markdown",
   "id": "34e60aa7-a0b5-4eeb-a141-e56e5f14cf3f",
   "metadata": {},
   "source": [
    "#### 3.1.2 定义各种图形函数"
   ]
  },
  {
   "cell_type": "code",
   "execution_count": 15,
   "id": "cdcd9f1f-4908-4a86-8c8c-7cef15631740",
   "metadata": {},
   "outputs": [],
   "source": [
    "# 饼图\n",
    "def pie(label:list, values:list, title:str, html_name:str):\n",
    "    item = tuple(zip(label, values))\n",
    "    data = sorted(item, key = lambda x: x[1], reverse = True)\n",
    "    label = [i[0] for i in data]\n",
    "    values = [i[1] for i in data]\n",
    "    \n",
    "    pie = (\n",
    "        Pie(init_opts=opts.InitOpts(bg_color=\"#2c343c\"))\n",
    "        .add(\n",
    "            \"\",\n",
    "            [list(z) for z in zip(label, values)],\n",
    "            rosetype=\"radius\",\n",
    "            radius=[\"35%\",\"75%\"], # 设置内外半圆半径\n",
    "            center=[\"50%\", \"50%\"], # 设置图形居中\n",
    "\n",
    "        )  \n",
    "        .set_series_opts(\n",
    "            label_opts = opts.LabelOpts(formatter = \"{b} \\n {d}%\"),\n",
    "        )   \n",
    "        .set_global_opts(\n",
    "            title_opts=opts.TitleOpts(\n",
    "            title=title,\n",
    "            pos_left=\"20\",\n",
    "            pos_bottom=\"20\",\n",
    "            title_textstyle_opts=opts.TextStyleOpts(color=\"rgba(255, 255, 255, 0.5\"),\n",
    "            ),\n",
    "            # Legend设置 \n",
    "            legend_opts = opts.LegendOpts(background_color=\"rgba(255, 255, 255, 0.5\",border_width = 0)\n",
    "        )\n",
    "    )\n",
    "    pie.render(PICTURE_BASE_PATH + html_name),"
   ]
  },
  {
   "cell_type": "code",
   "execution_count": 16,
   "id": "6040433a-c9d0-4e0e-aab0-d0ccb59a723c",
   "metadata": {},
   "outputs": [],
   "source": [
    "# 箱线图\n",
    "def box(label:list, values:list, title:str, html_name:str):\n",
    "    box = Boxplot(init_opts=opts.InitOpts(bg_color=\"#2c343c\"))\n",
    "    box.add_xaxis(label)\n",
    "    box.add_yaxis(\"\", box.prepare_data(values))\n",
    "    box.set_global_opts(\n",
    "        title_opts=opts.TitleOpts(\n",
    "            title=title, pos_left=\"20\", pos_bottom=\"20\",title_textstyle_opts=opts.TextStyleOpts(color=\"rgba(255, 255, 255, 0.5\")\n",
    "        )\n",
    "    )  \n",
    "    box.render(PICTURE_BASE_PATH + html_name)"
   ]
  },
  {
   "cell_type": "code",
   "execution_count": 17,
   "id": "2d7e74ba-7e3f-4fa6-aa17-370d72a028f2",
   "metadata": {},
   "outputs": [],
   "source": [
    "# 词云图\n",
    "def wordCloud(pair, title:str, html_name:str):\n",
    "    word_cloud = (\n",
    "        WordCloud(init_opts=opts.InitOpts(bg_color=\"#2c343c\"))\n",
    "        .add(series_name = \"\", data_pair = pair, word_size_range=[10, 100])\n",
    "        .set_global_opts(\n",
    "            title_opts=opts.TitleOpts(\n",
    "                title=title,\n",
    "                pos_left=\"20\",\n",
    "                pos_bottom=\"20\",\n",
    "                title_textstyle_opts=opts.TextStyleOpts(color=\"rgba(255, 255, 255, 0.5\")\n",
    "            ),\n",
    "        )\n",
    "        .render(PICTURE_BASE_PATH + html_name)\n",
    "    )"
   ]
  },
  {
   "cell_type": "code",
   "execution_count": 18,
   "id": "246dc482-159f-425a-af7a-6c2efb569ff6",
   "metadata": {},
   "outputs": [],
   "source": [
    "# 3d柱状图\n",
    "def three(grouped, result:list, title:str, html_name:str):\n",
    "    x = list(set(grouped['experience']))\n",
    "    y = list(set(grouped['education']))\n",
    "    \n",
    "    three = (\n",
    "        Bar3D()\n",
    "        .add(\n",
    "            \"\",\n",
    "            result,\n",
    "            xaxis3d_opts=opts.Axis3DOpts(x, type_=\"category\"),\n",
    "            yaxis3d_opts=opts.Axis3DOpts(y, type_=\"category\"),\n",
    "            zaxis3d_opts=opts.Axis3DOpts(type_=\"value\"),\n",
    "        )\n",
    "        .set_global_opts(\n",
    "            visualmap_opts=opts.VisualMapOpts(max_=120000, pos_right = \"10\"),\n",
    "            title_opts=opts.TitleOpts(\n",
    "                title=title, pos_left=\"0\", pos_bottom=\"40\",title_textstyle_opts=opts.TextStyleOpts(color=\"rgba(0, 0, 0, 0.5\")\n",
    "            )\n",
    "        )\n",
    "        .render(PICTURE_BASE_PATH + html_name)\n",
    "    )"
   ]
  },
  {
   "cell_type": "code",
   "execution_count": 19,
   "id": "cf3a8dd6-eb08-48da-bb15-82fe7979d44d",
   "metadata": {},
   "outputs": [],
   "source": [
    "# 地图\n",
    "def map(map_lst:list, title:str, html_name:str, max:int):\n",
    "    \"\"\"\n",
    "    :param: map_lst\n",
    "    \"\"\"\n",
    "    map = (\n",
    "        Map(init_opts=opts.InitOpts(bg_color=\"#2c343c\"))\n",
    "        .add(\n",
    "            \"\",\n",
    "            map_lst,\n",
    "            \"china-cities\",\n",
    "            label_opts=opts.LabelOpts(is_show=False),\n",
    "        )\n",
    "        .set_global_opts(\n",
    "            title_opts=opts.TitleOpts(\n",
    "                title=title,\n",
    "                pos_left=\"20\",\n",
    "                pos_bottom=\"40\",\n",
    "                title_textstyle_opts=opts.TextStyleOpts(color=\"rgba(255, 255, 255, 0.5\")\n",
    "            ),\n",
    "            visualmap_opts=opts.VisualMapOpts(max_=max,pos_right = \"10\"),\n",
    "            # visualmap_opts=opts.VisualMapOpts(pos_right = '10'),\n",
    "        )\n",
    "        .render(PICTURE_BASE_PATH + html_name)\n",
    "    )\n"
   ]
  },
  {
   "cell_type": "markdown",
   "id": "73f49dce-bbe7-43f7-a635-a6eae70c9539",
   "metadata": {},
   "source": [
    "### 3.2 岗位数与经验、学历、公司规模的关系"
   ]
  },
  {
   "cell_type": "markdown",
   "id": "73ac2bdd-a63c-4f34-8f59-708629b01b3a",
   "metadata": {},
   "source": [
    "#### 3.1.1 岗位数与经验"
   ]
  },
  {
   "cell_type": "code",
   "execution_count": 20,
   "id": "5ab38af9-9954-4b73-ac21-96ae547bb1ec",
   "metadata": {
    "scrolled": true
   },
   "outputs": [
    {
     "data": {
      "text/html": [
       "\n",
       "        <iframe\n",
       "            width=\"1000\"\n",
       "            height=\"600\"\n",
       "            src=\"html/experience.html\"\n",
       "            frameborder=\"0\"\n",
       "            allowfullscreen\n",
       "            \n",
       "        ></iframe>\n",
       "        "
      ],
      "text/plain": [
       "<IPython.lib.display.IFrame at 0x1ad56e9a5d0>"
      ]
     },
     "execution_count": 20,
     "metadata": {},
     "output_type": "execute_result"
    }
   ],
   "source": [
    "people_df = data['experience'].value_counts().reset_index()\n",
    "label = list(people_df['experience'])\n",
    "values = list(people_df['count'])\n",
    "\n",
    "pie(label, values, '岗位数-经验', 'experience.html')\n",
    "IFrame(src = PICTURE_BASE_PATH + 'experience.html',width = 1000,height = 600)"
   ]
  },
  {
   "cell_type": "markdown",
   "id": "1d3fabbf-bcb7-4c16-8161-a9b174974300",
   "metadata": {},
   "source": [
    "经验要求不限、在1-3年、3-5年的比重可谓三权分立。  \n",
    "相比于卷了几十年的软件工程等计算机专业其他分流，AI起步较晚，对经验要求较低。"
   ]
  },
  {
   "cell_type": "markdown",
   "id": "b88c3d2d-2e7d-4bbc-993a-dc8501bd554e",
   "metadata": {},
   "source": [
    "#### 3.1.2 岗位数与学历"
   ]
  },
  {
   "cell_type": "code",
   "execution_count": 21,
   "id": "774754cf-ef10-4c46-aaa4-9a628784aaa6",
   "metadata": {
    "scrolled": true
   },
   "outputs": [
    {
     "data": {
      "text/html": [
       "\n",
       "        <iframe\n",
       "            width=\"1000\"\n",
       "            height=\"600\"\n",
       "            src=\"html/jobCount_education.html\"\n",
       "            frameborder=\"0\"\n",
       "            allowfullscreen\n",
       "            \n",
       "        ></iframe>\n",
       "        "
      ],
      "text/plain": [
       "<IPython.lib.display.IFrame at 0x1ad560c9310>"
      ]
     },
     "execution_count": 21,
     "metadata": {},
     "output_type": "execute_result"
    }
   ],
   "source": [
    "# 将计数系列转换为数据框，以便查找每个值对应的 'education'  \n",
    "education_df = data['education'].value_counts().reset_index()\n",
    "label = list(education_df['education'])\n",
    "values = list(education_df['count'])\n",
    "\n",
    "pie(label, values, '岗位数-学历','jobCount_education.html')\n",
    "IFrame(src = PICTURE_BASE_PATH + 'jobCount_education.html',width = 1000,height = 600)"
   ]
  },
  {
   "cell_type": "markdown",
   "id": "1f42e2ed-c245-41d3-b1b3-bfe8eed2c36b",
   "metadata": {},
   "source": [
    "本科可以从事AI工作的岗位数量占比超过了50%，说明本科毕业仍然能找到一份AI相关的工作。"
   ]
  },
  {
   "cell_type": "markdown",
   "id": "c16c0f28-0eac-4a77-ac38-352f82d0c9ff",
   "metadata": {},
   "source": [
    "#### 3.1.3 岗位数与公司规模"
   ]
  },
  {
   "cell_type": "code",
   "execution_count": 22,
   "id": "15f05a34-0c43-442e-9ddc-4159bb1e390a",
   "metadata": {
    "scrolled": true
   },
   "outputs": [
    {
     "data": {
      "text/html": [
       "\n",
       "        <iframe\n",
       "            width=\"1000\"\n",
       "            height=\"600\"\n",
       "            src=\"html/companyPeople.html\"\n",
       "            frameborder=\"0\"\n",
       "            allowfullscreen\n",
       "            \n",
       "        ></iframe>\n",
       "        "
      ],
      "text/plain": [
       "<IPython.lib.display.IFrame at 0x1ad37b404d0>"
      ]
     },
     "execution_count": 22,
     "metadata": {},
     "output_type": "execute_result"
    }
   ],
   "source": [
    "people_df = data['people'].value_counts().reset_index()\n",
    "label = list(people_df['people'])\n",
    "values = list(people_df['count'])\n",
    "\n",
    "pie(label, values, '岗位数-公司规模', 'companyPeople.html')\n",
    "IFrame(src = PICTURE_BASE_PATH + 'companyPeople.html',width = 1000,height = 600)"
   ]
  },
  {
   "cell_type": "markdown",
   "id": "4b6971f1-b92f-452f-be15-423ddaccc821",
   "metadata": {},
   "source": [
    "公司规模在100人以下的占比接近50%，说明AI相关岗位有很多初创公司、小型公司。"
   ]
  },
  {
   "cell_type": "markdown",
   "id": "accecc63-cf3b-4517-af57-eb80a8f761d4",
   "metadata": {},
   "source": [
    "### 3.3 岗位薪酬与经验、学历、公司规模的关系"
   ]
  },
  {
   "cell_type": "markdown",
   "id": "a7a335d9-c7f7-4697-b784-fd52a05f5d1f",
   "metadata": {},
   "source": [
    "#### 3.2.1 薪酬与经验"
   ]
  },
  {
   "cell_type": "code",
   "execution_count": 23,
   "id": "cbeeede2-0a90-4741-8687-d063aafe0773",
   "metadata": {
    "scrolled": true
   },
   "outputs": [
    {
     "data": {
      "text/html": [
       "\n",
       "        <iframe\n",
       "            width=\"1200\"\n",
       "            height=\"600\"\n",
       "            src=\"html/experience_salary.html\"\n",
       "            frameborder=\"0\"\n",
       "            allowfullscreen\n",
       "            \n",
       "        ></iframe>\n",
       "        "
      ],
      "text/plain": [
       "<IPython.lib.display.IFrame at 0x1ad55cb3d10>"
      ]
     },
     "execution_count": 23,
     "metadata": {},
     "output_type": "execute_result"
    }
   ],
   "source": [
    "# 不统计经验不限\n",
    "experience_groups = data.groupby('experience')['salary'].apply(list)  \n",
    "# 将分组结果合并为一个列表  \n",
    "experience_salary_list = experience_groups.values.tolist()\n",
    "experience_list = experience_groups.index.tolist()\n",
    "box(experience_list, experience_salary_list, '岗位薪水-经验','experience_salary.html')\n",
    "IFrame(src = PICTURE_BASE_PATH + 'experience_salary.html',width = 1200,height = 600)"
   ]
  },
  {
   "cell_type": "markdown",
   "id": "429e15b0-6048-435b-b6f8-b75f9137531c",
   "metadata": {},
   "source": [
    "无论经验在哪个阶段，都存在：  \n",
    "少数极高工资能够达到30-50万/月；大部分处于较低水平，但仍然在1-2万/月之间。  \n",
    "说明AI相关岗位薪水比较可观，并且随着经验的增加，薪水也总体呈上升趋势。"
   ]
  },
  {
   "cell_type": "markdown",
   "id": "6b2dd2ec-6837-45b8-ab07-3ef9a795c551",
   "metadata": {},
   "source": [
    "#### 3.2.2 薪酬与学历"
   ]
  },
  {
   "cell_type": "code",
   "execution_count": 24,
   "id": "1feea9ee-793b-4929-aee9-5e34ea74ffaa",
   "metadata": {
    "scrolled": true
   },
   "outputs": [
    {
     "data": {
      "text/html": [
       "\n",
       "        <iframe\n",
       "            width=\"1200\"\n",
       "            height=\"600\"\n",
       "            src=\"html/education_salary.html\"\n",
       "            frameborder=\"0\"\n",
       "            allowfullscreen\n",
       "            \n",
       "        ></iframe>\n",
       "        "
      ],
      "text/plain": [
       "<IPython.lib.display.IFrame at 0x1ad56e8ee50>"
      ]
     },
     "execution_count": 24,
     "metadata": {},
     "output_type": "execute_result"
    }
   ],
   "source": [
    "# 按照教育程度分组，并计算每的薪水数据列表  \n",
    "education_groups = data.groupby('education')['salary'].apply(list)  \n",
    "# 将分组结果合并为一个列表  \n",
    "education_salary_list = education_groups.values.tolist()\n",
    "education_list = education_groups.index.tolist()\n",
    "box(education_list, education_salary_list, '岗位薪水-学历','education_salary.html')\n",
    "IFrame(src = PICTURE_BASE_PATH + 'education_salary.html',width = 1200,height = 600)"
   ]
  },
  {
   "cell_type": "markdown",
   "id": "0ac5f75b-c5bf-4349-a999-cb29545a05cb",
   "metadata": {},
   "source": [
    "硕士、博士的平均薪水明显要高于其他学历水平，并且箱线图的分布范围也更大一点。  \n",
    "说明虽然本科甚至专科就能找到一份AI工作，但是学历在硕士以上的薪水明显上了一个台阶，薪酬区间也更大一点。"
   ]
  },
  {
   "cell_type": "markdown",
   "id": "ed670fe3-c037-465d-bf93-30e8f7ed0836",
   "metadata": {},
   "source": [
    "#### 3.2.3 薪酬与公司规模"
   ]
  },
  {
   "cell_type": "code",
   "execution_count": 25,
   "id": "78407830-666a-476e-bfe1-7176d79e42ac",
   "metadata": {
    "scrolled": true
   },
   "outputs": [
    {
     "data": {
      "text/html": [
       "\n",
       "        <iframe\n",
       "            width=\"1200\"\n",
       "            height=\"600\"\n",
       "            src=\"html/people_salary.html\"\n",
       "            frameborder=\"0\"\n",
       "            allowfullscreen\n",
       "            \n",
       "        ></iframe>\n",
       "        "
      ],
      "text/plain": [
       "<IPython.lib.display.IFrame at 0x1ad5606f590>"
      ]
     },
     "execution_count": 25,
     "metadata": {},
     "output_type": "execute_result"
    }
   ],
   "source": [
    "# 按照公司规模分组，并计算每的薪水数据列表  \n",
    "people_groups = data.groupby('people')['salary'].apply(list)  \n",
    "# 将分组结果合并为一个列表  \n",
    "people_salary_list = people_groups.values.tolist()\n",
    "people_list = people_groups.index.tolist()\n",
    "box(people_list, people_salary_list, '岗位薪水-公司规模','people_salary.html')\n",
    "IFrame(src = PICTURE_BASE_PATH + 'people_salary.html',width = 1200,height = 600)"
   ]
  },
  {
   "cell_type": "markdown",
   "id": "d59f15e6-452f-495b-b957-deea51d8060e",
   "metadata": {},
   "source": [
    "岗位平均薪酬随着公司规模的增大而呈上升趋势。   \n",
    "小公司的极大值可能还要比大型公司的极大值要高，也说明了小型公司的分化相对更加明显，而大型公司薪酬区间更稳定一些。"
   ]
  },
  {
   "cell_type": "markdown",
   "id": "35ba093e-6e06-4cbb-8b65-94fe70d1e70f",
   "metadata": {},
   "source": [
    "### 3.4岗位技能词云"
   ]
  },
  {
   "cell_type": "code",
   "execution_count": 26,
   "id": "96fb787a-e4c0-40c9-a3ff-5ecb5fb67da7",
   "metadata": {},
   "outputs": [],
   "source": [
    "# 提取技能列  \n",
    "skill_lst = str([skill for skill in data['skill']])\n",
    "skills_str = skill_lst.replace('[','').replace(']','').replace('\"','')\n",
    "# 将字符串 s 分割成独立的字串  \n",
    "words = list(skills_str.split(','))\n",
    "word_counts = {}  \n",
    "for word in words:  \n",
    "    if word in word_counts:  \n",
    "        word_counts[word] += 1  \n",
    "    else:  \n",
    "        word_counts[word] = 1 \n",
    "        \n",
    "# 由于全部统计用时过长，所以去除出现次数小于30的词语       \n",
    "new_word_counts = {}\n",
    "for word, count in word_counts.items():  \n",
    "    if count >= 30:  \n",
    "        new_word_counts[word] = count\n",
    "        \n",
    "# 去除每个键两侧空白和单引号\n",
    "new_word_counts = {key.strip().replace(\"'\",\"\"):value for key, value in new_word_counts.items()}\n",
    "pair = list(new_word_counts.items())"
   ]
  },
  {
   "cell_type": "code",
   "execution_count": 27,
   "id": "dc4e7370-927d-476f-8d97-256cd1d50e13",
   "metadata": {
    "scrolled": true
   },
   "outputs": [
    {
     "data": {
      "text/html": [
       "\n",
       "        <iframe\n",
       "            width=\"1000\"\n",
       "            height=\"600\"\n",
       "            src=\"html/wordCloud.html\"\n",
       "            frameborder=\"0\"\n",
       "            allowfullscreen\n",
       "            \n",
       "        ></iframe>\n",
       "        "
      ],
      "text/plain": [
       "<IPython.lib.display.IFrame at 0x1ad5601d4d0>"
      ]
     },
     "execution_count": 27,
     "metadata": {},
     "output_type": "execute_result"
    }
   ],
   "source": [
    "#绘制词云\n",
    "cloud = wordCloud(pair, '岗位技能词云','wordCloud.html')\n",
    "IFrame(src = PICTURE_BASE_PATH + 'wordCloud.html',width = 1000,height = 600)"
   ]
  },
  {
   "cell_type": "markdown",
   "id": "2329cf76-6bf2-4210-bb89-5fc0bf36f917",
   "metadata": {},
   "source": [
    "深度学习框架TensorFlow、PyTorch占比较大，并且机器学习算法/工程化经验、统计等数学知识的要求明显较高。  \n",
    "在非互联网岗位如PS、机器人、销售等行业中AI也在逐渐渗透，表明AI在传统行业仍然有很好的前景。"
   ]
  },
  {
   "cell_type": "markdown",
   "id": "4912273a-a78e-46e1-9d44-b4b403ac2981",
   "metadata": {},
   "source": [
    "### 3.5 岗位薪酬与经验和学历的三维关系"
   ]
  },
  {
   "cell_type": "code",
   "execution_count": 28,
   "id": "ade1c22e-f502-4546-bbf0-1f389736e38e",
   "metadata": {
    "scrolled": true
   },
   "outputs": [
    {
     "data": {
      "text/html": [
       "\n",
       "        <iframe\n",
       "            width=\"1000\"\n",
       "            height=\"600\"\n",
       "            src=\"html/three.html\"\n",
       "            frameborder=\"0\"\n",
       "            allowfullscreen\n",
       "            \n",
       "        ></iframe>\n",
       "        "
      ],
      "text/plain": [
       "<IPython.lib.display.IFrame at 0x1ad56d24150>"
      ]
     },
     "execution_count": 28,
     "metadata": {},
     "output_type": "execute_result"
    }
   ],
   "source": [
    "# 按experience、education分组并计算每组平均salary，重置索引\n",
    "grouped = data.groupby(['experience', 'education'])['salary'].mean().reset_index() \n",
    "# 生成 “经验-学历-薪水” 对应三元组\n",
    "result = grouped[['experience', 'education', 'salary']].values.tolist()\n",
    "#绘制三维关系图\n",
    "three(grouped, result, '岗位薪酬-经验/学历','three.html')\n",
    "IFrame(src = PICTURE_BASE_PATH + 'three.html',width = 1000,height = 600)"
   ]
  },
  {
   "cell_type": "markdown",
   "id": "a47f10e9-bad0-4e5d-8545-1e0986e95d78",
   "metadata": {},
   "source": [
    "可以看到，硕士博士的起步工资要高于本科专科，在5年以下博士的平均工资远远高于相同经验的其他学历的工资。  \n",
    "具有5-10、10年以上经验的硕士、博士的工资水平遥遥领先。  \n",
    "本科的工资随着经验的增加也有着不错的提升，而专科的薪酬提升就比较困难了。  "
   ]
  },
  {
   "cell_type": "markdown",
   "id": "2714e737-0f2e-42af-b59f-f0eb278738aa",
   "metadata": {},
   "source": [
    "### 3.6 薪酬的城市分布"
   ]
  },
  {
   "cell_type": "code",
   "execution_count": 29,
   "id": "b38bd5a4-6ada-439a-9eb6-8cb3f6884523",
   "metadata": {
    "scrolled": true
   },
   "outputs": [
    {
     "data": {
      "text/html": [
       "\n",
       "        <iframe\n",
       "            width=\"1000\"\n",
       "            height=\"800\"\n",
       "            src=\"html/map_city_salary.html\"\n",
       "            frameborder=\"0\"\n",
       "            allowfullscreen\n",
       "            \n",
       "        ></iframe>\n",
       "        "
      ],
      "text/plain": [
       "<IPython.lib.display.IFrame at 0x1ad37af4ad0>"
      ]
     },
     "execution_count": 29,
     "metadata": {},
     "output_type": "execute_result"
    }
   ],
   "source": [
    "# 按city分组并计算每个city的平均salary，重置索引\n",
    "grouped_city = data.groupby('city')['salary'].mean().reset_index()\n",
    "# 生成 “城市-平均薪资” 对应列表\n",
    "result_city_lst = grouped_city[['city','salary']].values.tolist()\n",
    "# 添加城市的后缀“市”\n",
    "result_city_lst = [[city[0] + '市',city[1]] for city in result_city_lst]\n",
    "# print(result_city_lst)\n",
    "map(result_city_lst, '薪酬的城市分布', 'map_city_salary.html', int(40000))\n",
    "IFrame(src = PICTURE_BASE_PATH + 'map_city_salary.html',width = 1000,height = 800)"
   ]
  },
  {
   "cell_type": "markdown",
   "id": "5c44579e-5eda-4ee6-b553-33f96bd5c4b6",
   "metadata": {},
   "source": [
    "北京、上海一线城市，杭州、天津等沿海城市AI岗位薪酬比较高，在35-60万左右。   \n",
    "武汉、重庆、西安、合肥等靠近中部地区AI岗位薪酬较为中等，在20-30万左右。  \n",
    "太原、晋城等靠近中部偏北部的城市薪酬偏低，甚至许多薪酬没有过万，可能大多数岗位是需要AI的非互联网行业。"
   ]
  }
 ],
 "metadata": {
  "kernelspec": {
   "display_name": "Python 3 (ipykernel)",
   "language": "python",
   "name": "python3"
  },
  "language_info": {
   "codemirror_mode": {
    "name": "ipython",
    "version": 3
   },
   "file_extension": ".py",
   "mimetype": "text/x-python",
   "name": "python",
   "nbconvert_exporter": "python",
   "pygments_lexer": "ipython3",
   "version": "3.11.4"
  }
 },
 "nbformat": 4,
 "nbformat_minor": 5
}
